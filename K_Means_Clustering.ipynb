{
 "cells": [
  {
   "cell_type": "markdown",
   "id": "24150af8",
   "metadata": {},
   "source": [
    "### K-Means Clustering"
   ]
  },
  {
   "cell_type": "markdown",
   "id": "a45f0a36",
   "metadata": {},
   "source": [
    "Unsupervised clustering algorithms are an efficient means to identify groups of related objects within large populations. Here I implement the following k-means clustering algorithm and apply them to the data in cluster.txt. The file contains data as: x, y, class. I have removed lines that are empty or that are invalid data. "
   ]
  },
  {
   "cell_type": "code",
   "execution_count": 1,
   "id": "44372ff0",
   "metadata": {},
   "outputs": [],
   "source": [
    "import numpy as np\n",
    "import matplotlib.pyplot as plt\n",
    "import re\n",
    "from sklearn.metrics import confusion_matrix"
   ]
  },
  {
   "cell_type": "markdown",
   "id": "27693508",
   "metadata": {},
   "source": [
    "The regular expression - regexp used here filters the data we need from any invalid data from the original 'cluster.txt' file."
   ]
  },
  {
   "cell_type": "code",
   "execution_count": 2,
   "id": "23573a4f",
   "metadata": {},
   "outputs": [],
   "source": [
    "with open('cluster.txt') as f:\n",
    "    lines = f.readlines()\n",
    "    \n",
    "regexp = \"^\\d+\\.\\d+ \\d+\\.\\d+ [a-zA-Z]+_?[a-zA-Z]*\" # regular expression\n",
    "\n",
    "lines = [i for i in lines if re.search(regexp, i)]  # valid lines from the text file\n",
    "\n",
    "r = len(lines) # number_data_samples\n",
    "c = 3 # number_clusters\n",
    "\n",
    "# split the data from the original string\n",
    "data = []\n",
    "for i in range(len(lines)):\n",
    "    data.append(lines[i].split())\n",
    "class_label = []\n",
    "data1 = []\n",
    "data2 = []\n",
    "for i in range(len(data)):\n",
    "    class_label.append(data[i][2].replace('\\n','')) # classes_label\n",
    "    data1.append(float(data[i][0])) # feature 1\n",
    "    data2.append(float(data[i][1])) # feature 2\n",
    "x = np.empty((len(data), 2))\n",
    "x[:,0] = data1\n",
    "x[:,1] = data2\n",
    "\"\"\"\n",
    "r = len(x) \n",
    "c = 3\n",
    "\"\"\"\n",
    "\n",
    "classes = []\n",
    "classes.append(class_label[0])\n",
    "for i in class_label:\n",
    "        if i not in classes:\n",
    "            classes.append(i)\n",
    "x_pclass = []\n",
    "for i in range(r):\n",
    "    if class_label[i] == \"Head\":\n",
    "        x_pclass.append(0)\n",
    "    elif class_label[i] == \"Ear_left\":\n",
    "        x_pclass.append(1)\n",
    "    elif class_label[i] == \"Ear_right\":\n",
    "        x_pclass.append(2)\n",
    "x_pclass = np.array(x_pclass) + 1           \n",
    "train_data = np.zeros((r,c))\n",
    "train_data[:,0] = x[:,0] # feature 1\n",
    "train_data[:,1] = x[:,1] # feature 2\n",
    "train_data[:,2] = x_pclass[:] # numerical value of the class labels\n",
    "count = 0\n",
    "for i in range(len(train_data)):\n",
    "    if train_data[i,2] == 3:\n",
    "        count += 1\n"
   ]
  },
  {
   "cell_type": "markdown",
   "id": "9992a1d7",
   "metadata": {},
   "source": [
    "Use K-Means clustering with 3-clusters to label each (x,y) pair as Head, Ear Right, or Ear Left. You may use any standard NumPy or SciPy packages or experiment with your own implementation."
   ]
  },
  {
   "cell_type": "code",
   "execution_count": 3,
   "id": "350934bc",
   "metadata": {},
   "outputs": [],
   "source": [
    "# learn the training data using kmeans function from the scipy python library.\n",
    "\n",
    "from scipy import cluster\n",
    "centers, distortion = cluster.vq.kmeans(train_data[:,0:2], 3, 11)\n"
   ]
  },
  {
   "cell_type": "code",
   "execution_count": 4,
   "id": "97831ca0",
   "metadata": {
    "scrolled": true
   },
   "outputs": [],
   "source": [
    "#print(centers)\n",
    "indices = np.argsort(centers, axis = 0)[:,0]\n",
    "centroids = []\n",
    "for i in indices:\n",
    "    centroids.append(centers[i,:])\n",
    "centroids = np.reshape(centroids, (3,2))\n"
   ]
  },
  {
   "cell_type": "code",
   "execution_count": 5,
   "id": "6682cfae",
   "metadata": {},
   "outputs": [],
   "source": [
    "def distance(r,c, x, centers):\n",
    "    Distance = np.zeros((r,c))\n",
    "    for i in range(r):\n",
    "        for j in range(c):\n",
    "            Distance[i,j] = np.linalg.norm(x[i,:] - centers[j,:])\n",
    "            #Distance_x2[i,j] = np.linalg.norm(x[i,:] - centers[j,:])\n",
    "            \n",
    "    \n",
    "    return Distance\n",
    "\n",
    "D = distance(r,c, x, centroids)\n",
    "\n",
    "x_class = np.zeros((r,))\n",
    "class_target = []\n",
    "for i in range(r):\n",
    "    x_class[i] = np.argmin(D[i,:])\n",
    "    if x_class[i] == 0: # ear_left\n",
    "        class_target.append(classes[1])\n",
    "    elif x_class[i] == 1: # head\n",
    "        class_target.append(classes[0])\n",
    "    elif x_class[i] == 2: # ear_right\n",
    "        class_target.append(classes[2])\n",
    "x_class = x_class + 1\n",
    "\n",
    "target_data = np.zeros((r,c))\n",
    "target_data[:,0] = train_data[:,0]\n",
    "target_data[:,1] = train_data[:,1]\n",
    "target_data[:,2] = x_class[:]\n",
    "\n"
   ]
  },
  {
   "cell_type": "code",
   "execution_count": 6,
   "id": "b2371ecd",
   "metadata": {},
   "outputs": [
    {
     "data": {
      "text/plain": [
       "Text(0.5, 1.0, 'After Classification')"
      ]
     },
     "execution_count": 6,
     "metadata": {},
     "output_type": "execute_result"
    },
    {
     "data": {
      "image/png": "[encoded data removed]",
      "text/plain": [
       "<Figure size 432x288 with 1 Axes>"
      ]
     },
     "metadata": {
      "needs_background": "light"
     },
     "output_type": "display_data"
    },
    {
     "data": {
      "image/png": "[encoded data removed]",
      "text/plain": [
       "<Figure size 432x288 with 1 Axes>"
      ]
     },
     "metadata": {
      "needs_background": "light"
     },
     "output_type": "display_data"
    }
   ],
   "source": [
    "x1_before3 = []\n",
    "x2_before3 = []\n",
    "x1_after3 = []\n",
    "x2_after3 = []\n",
    "x1_before2 = []\n",
    "x2_before2 = []\n",
    "x1_after2 = []\n",
    "x2_after2 = []\n",
    "x1_before1 = []\n",
    "x2_before1 = []\n",
    "x1_after1 = []\n",
    "x2_after1 = []\n",
    "for i in range(len(x_class)):\n",
    "    if train_data[i,2] == 3: #ear-right\n",
    "        x1_before3.append(train_data[i,0])\n",
    "        x2_before3.append(train_data[i,1])\n",
    "    if target_data[i,2] == 3:\n",
    "        x1_after3.append(target_data[i,0])\n",
    "        x2_after3.append(target_data[i,1])\n",
    "        \n",
    "    if train_data[i,2] == 2: #ear-left\n",
    "        x1_before2.append(train_data[i,0])\n",
    "        x2_before2.append(train_data[i,1])\n",
    "    if target_data[i,2] == 2:\n",
    "        x1_after2.append(target_data[i,0])\n",
    "        x2_after2.append(target_data[i,1])\n",
    "        \n",
    "    if train_data[i,2] == 1: # head\n",
    "        x1_before1.append(train_data[i,0])\n",
    "        x2_before1.append(train_data[i,1])\n",
    "    if target_data[i,2] == 1:\n",
    "        x1_after1.append(target_data[i,0])\n",
    "        x2_after1.append(target_data[i,1])\n",
    "plt.figure()      \n",
    "plt.scatter(x1_before1, x2_before1, s=20, c= 'Blue') # head\n",
    "plt.scatter(x1_before2, x2_before2, s=20, c= 'Red') # ear_left\n",
    "plt.scatter(x1_before3, x2_before3, s=20, c= 'Green') # ear_right\n",
    "plt.title(\"Before Classification\")\n",
    "\n",
    "plt.figure()\n",
    "plt.scatter(x1_after1, x2_after1, s=20, c= 'Red') # ear_left\n",
    "plt.scatter(x1_after2, x2_after2, s=20, c= 'Blue')  # head\n",
    "plt.scatter(x1_after3, x2_after3, s=20, c= 'Green') # ear_right\n",
    "plt.title(\"After Classification\")"
   ]
  },
  {
   "cell_type": "markdown",
   "id": "90adee2c",
   "metadata": {},
   "source": [
    "### Confusion Matrix"
   ]
  },
  {
   "cell_type": "code",
   "execution_count": 7,
   "id": "fa4c3548",
   "metadata": {},
   "outputs": [],
   "source": [
    "## computing confusion matrix using sklearn\n",
    "cm = confusion_matrix(class_label, class_target)"
   ]
  },
  {
   "cell_type": "code",
   "execution_count": 8,
   "id": "c39d9e27",
   "metadata": {},
   "outputs": [
    {
     "name": "stdout",
     "output_type": "stream",
     "text": [
      "Classes: 0:Ear_left, 1:Ear_right, 2:Head\n",
      "Confusion Matrix:\n",
      " [[100   0   0]\n",
      " [  0 100   0]\n",
      " [ 25  54 211]]\n"
     ]
    },
    {
     "data": {
      "image/png": "[encoded data removed]",
      "text/plain": [
       "<Figure size 288x288 with 2 Axes>"
      ]
     },
     "metadata": {
      "needs_background": "light"
     },
     "output_type": "display_data"
    }
   ],
   "source": [
    "def plot_cm(CM, title='Confusion matrix', cmap=plt.cm.Paired):\n",
    "    \n",
    "    \n",
    "    \n",
    "    plt.matshow(CM, cmap=cmap) # imshow\n",
    "    #plt.title(title)\n",
    "    plt.colorbar()\n",
    "    tick_marks = np.arange(3)\n",
    "    plt.xlabel(\"Predicted\")\n",
    "    plt.ylabel(\"Actual\")\n",
    "    \n",
    "    for i in range(3):\n",
    "        for j in range(3):\n",
    "            plt.text(j, i, CM[i,j], fontweight = 700, color=\"black\") \n",
    "\n",
    "plot_cm(cm)\n",
    "print(\"Classes: 0:Ear_left, 1:Ear_right, 2:Head\")\n",
    "print(\"Confusion Matrix:\\n\",cm)"
   ]
  },
  {
   "cell_type": "markdown",
   "id": "71f18490",
   "metadata": {},
   "source": [
    "### Accuracy"
   ]
  },
  {
   "cell_type": "code",
   "execution_count": 10,
   "id": "1179c45c",
   "metadata": {},
   "outputs": [
    {
     "name": "stdout",
     "output_type": "stream",
     "text": [
      "Accuracy of k-means: 83.87755102040816%\n"
     ]
    }
   ],
   "source": [
    "accuracy = 0\n",
    "\n",
    "for i in range(3):\n",
    "    for j in range(3):\n",
    "        if i != j:\n",
    "            accuracy += cm[i,j]\n",
    "accuracy = (r-accuracy)*100/r\n",
    "print(\"Accuracy of k-means: \"+ str(accuracy) + \"%\")"
   ]
  },
  {
   "cell_type": "code",
   "execution_count": null,
   "id": "6284c71c",
   "metadata": {},
   "outputs": [],
   "source": []
  }
 ],
 "metadata": {
  "kernelspec": {
   "display_name": "Python 3 (ipykernel)",
   "language": "python",
   "name": "python3"
  },
  "language_info": {
   "codemirror_mode": {
    "name": "ipython",
    "version": 3
   },
   "file_extension": ".py",
   "mimetype": "text/x-python",
   "name": "python",
   "nbconvert_exporter": "python",
   "pygments_lexer": "ipython3",
   "version": "3.9.6"
  }
 },
 "nbformat": 4,
 "nbformat_minor": 5
}
